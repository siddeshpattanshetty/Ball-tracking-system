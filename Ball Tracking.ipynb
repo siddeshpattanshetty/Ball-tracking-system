{
 "cells": [
  {
   "cell_type": "code",
   "execution_count": 6,
   "metadata": {},
   "outputs": [],
   "source": [
    "import cv2\n",
    "import numpy as np\n",
    "import imutils\n",
    "import matplotlib.pyplot as plt"
   ]
  },
  {
   "cell_type": "code",
   "execution_count": 7,
   "metadata": {},
   "outputs": [],
   "source": [
    "cap = cv2.VideoCapture('ball_tracking.mp4')\n",
    "redLower = np.array([0,10,170], dtype='uint8')\n",
    "redUpper = np.array([50,50,255], dtype='uint8')\n",
    "c = 0\n",
    "frame_width = int(cap.get(3)) \n",
    "frame_height = int(cap.get(4)) \n",
    "   \n",
    "size = (frame_width, frame_height) \n",
    "\n",
    "result = cv2.VideoWriter('balltracking.mp4',  \n",
    "                         cv2.VideoWriter_fourcc(*'MJPG'), \n",
    "                         10, size) \n",
    "while True:\n",
    "    grapped,frame=cap.read()\n",
    "    if grapped == True:\n",
    "        \n",
    "        red = cv2.inRange(frame,redLower,redUpper)\n",
    "        red = cv2.GaussianBlur(red,(3,3),0)\n",
    "\n",
    "        cnts = cv2.findContours(red.copy(),cv2.RETR_EXTERNAL,cv2.CHAIN_APPROX_SIMPLE)\n",
    "        cnts = imutils.grab_contours(cnts)\n",
    "\n",
    "        if len(cnts) > 0:\n",
    "            cnt = sorted(cnts,key=cv2.contourArea,reverse=True)[0]\n",
    "            rect = np.int32(cv2.boxPoints(cv2.minAreaRect(cnt)))\n",
    "            cv2.circle(frame, (rect[0][0]+(rect[-1][0] - rect[0][0])//2,rect[1][1]+(rect[-1][-1]-rect[1][1])//2), \n",
    "                   25, (0, 255, 0), -1)\n",
    "        cv2.imshow(\"Ball Tracking\", frame)\n",
    "        result.write(frame)\n",
    "        if cv2.waitKey() & 0xFF == ord(\"q\"):\n",
    "            break\n",
    "        \n",
    "    else:\n",
    "        break\n",
    "        \n",
    "\n",
    "# cleanup the camera and close any open windows\n",
    "cap.release()\n",
    "cv2.destroyAllWindows()"
   ]
  },
  {
   "cell_type": "code",
   "execution_count": null,
   "metadata": {},
   "outputs": [],
   "source": []
  }
 ],
 "metadata": {
  "kernelspec": {
   "display_name": "Python 3",
   "language": "python",
   "name": "python3"
  },
  "language_info": {
   "codemirror_mode": {
    "name": "ipython",
    "version": 3
   },
   "file_extension": ".py",
   "mimetype": "text/x-python",
   "name": "python",
   "nbconvert_exporter": "python",
   "pygments_lexer": "ipython3",
   "version": "3.6.5"
  }
 },
 "nbformat": 4,
 "nbformat_minor": 2
}
